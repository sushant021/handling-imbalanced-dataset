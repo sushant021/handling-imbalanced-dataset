{
 "cells": [
  {
   "cell_type": "code",
   "execution_count": 1,
   "id": "36756677",
   "metadata": {
    "_cell_guid": "b1076dfc-b9ad-4769-8c92-a6c4dae69d19",
    "_uuid": "8f2839f25d086af736a60e9eeb907d3b93b6e0e5",
    "execution": {
     "iopub.execute_input": "2022-12-20T22:26:09.185394Z",
     "iopub.status.busy": "2022-12-20T22:26:09.184126Z",
     "iopub.status.idle": "2022-12-20T22:26:10.517752Z",
     "shell.execute_reply": "2022-12-20T22:26:10.518411Z",
     "shell.execute_reply.started": "2022-01-21T03:21:19.860402Z"
    },
    "papermill": {
     "duration": 1.360674,
     "end_time": "2022-12-20T22:26:10.518793",
     "exception": false,
     "start_time": "2022-12-20T22:26:09.158119",
     "status": "completed"
    },
    "tags": []
   },
   "outputs": [
    {
     "name": "stdout",
     "output_type": "stream",
     "text": [
      "/kaggle/input/creditcardfraud/creditcard.csv\n"
     ]
    }
   ],
   "source": [
    "# This Python 3 environment comes with many helpful analytics libraries installed\n",
    "# It is defined by the kaggle/python Docker image: https://github.com/kaggle/docker-python\n",
    "# For example, here's several helpful packages to load\n",
    "\n",
    "import numpy as np # linear algebra\n",
    "import pandas as pd # data processing, CSV file I/O (e.g. pd.read_csv)\n",
    "from sklearn.model_selection import train_test_split\n",
    "from sklearn.linear_model import LogisticRegression\n",
    "from sklearn import metrics\n",
    "import seaborn as sns\n",
    "import matplotlib.pyplot as plt\n",
    "\n",
    "\n",
    "# Input data files are available in the read-only \"../input/\" directory\n",
    "# For example, running this (by clicking run or pressing Shift+Enter) will list all files under the input directory\n",
    "\n",
    "import os\n",
    "for dirname, _, filenames in os.walk('/kaggle/input'):\n",
    "    for filename in filenames:\n",
    "        print(os.path.join(dirname, filename))\n",
    "\n",
    "# You can write up to 20GB to the current directory (/kaggle/working/) that gets preserved as output when you create a version using \"Save & Run All\" \n",
    "# You can also write temporary files to /kaggle/temp/, but they won't be saved outside of the current session"
   ]
  },
  {
   "cell_type": "markdown",
   "id": "e053b61c",
   "metadata": {
    "papermill": {
     "duration": 0.020761,
     "end_time": "2022-12-20T22:26:10.561275",
     "exception": false,
     "start_time": "2022-12-20T22:26:10.540514",
     "status": "completed"
    },
    "tags": []
   },
   "source": [
    "# Objective\n",
    "\n",
    "The objective of this notebook is to find out why balancing is necessary in an unbalanced dataset. First we will see the accuracy without balancing the data and later we will do same with the balanced data and compare the accuracy. "
   ]
  },
  {
   "cell_type": "markdown",
   "id": "c311e119",
   "metadata": {
    "papermill": {
     "duration": 0.01975,
     "end_time": "2022-12-20T22:26:10.601073",
     "exception": false,
     "start_time": "2022-12-20T22:26:10.581323",
     "status": "completed"
    },
    "tags": []
   },
   "source": [
    "# Let's Not Balance"
   ]
  },
  {
   "cell_type": "markdown",
   "id": "22ed55a0",
   "metadata": {
    "papermill": {
     "duration": 0.019765,
     "end_time": "2022-12-20T22:26:10.642359",
     "exception": false,
     "start_time": "2022-12-20T22:26:10.622594",
     "status": "completed"
    },
    "tags": []
   },
   "source": [
    "Loading the data."
   ]
  },
  {
   "cell_type": "code",
   "execution_count": 2,
   "id": "f766a6e9",
   "metadata": {
    "execution": {
     "iopub.execute_input": "2022-12-20T22:26:10.691004Z",
     "iopub.status.busy": "2022-12-20T22:26:10.690242Z",
     "iopub.status.idle": "2022-12-20T22:26:15.532823Z",
     "shell.execute_reply": "2022-12-20T22:26:15.533363Z",
     "shell.execute_reply.started": "2022-01-21T03:21:26.459197Z"
    },
    "papermill": {
     "duration": 4.871229,
     "end_time": "2022-12-20T22:26:15.533565",
     "exception": false,
     "start_time": "2022-12-20T22:26:10.662336",
     "status": "completed"
    },
    "tags": []
   },
   "outputs": [
    {
     "data": {
      "text/html": [
       "<div>\n",
       "<style scoped>\n",
       "    .dataframe tbody tr th:only-of-type {\n",
       "        vertical-align: middle;\n",
       "    }\n",
       "\n",
       "    .dataframe tbody tr th {\n",
       "        vertical-align: top;\n",
       "    }\n",
       "\n",
       "    .dataframe thead th {\n",
       "        text-align: right;\n",
       "    }\n",
       "</style>\n",
       "<table border=\"1\" class=\"dataframe\">\n",
       "  <thead>\n",
       "    <tr style=\"text-align: right;\">\n",
       "      <th></th>\n",
       "      <th>Time</th>\n",
       "      <th>V1</th>\n",
       "      <th>V2</th>\n",
       "      <th>V3</th>\n",
       "      <th>V4</th>\n",
       "      <th>V5</th>\n",
       "      <th>V6</th>\n",
       "      <th>V7</th>\n",
       "      <th>V8</th>\n",
       "      <th>V9</th>\n",
       "      <th>...</th>\n",
       "      <th>V21</th>\n",
       "      <th>V22</th>\n",
       "      <th>V23</th>\n",
       "      <th>V24</th>\n",
       "      <th>V25</th>\n",
       "      <th>V26</th>\n",
       "      <th>V27</th>\n",
       "      <th>V28</th>\n",
       "      <th>Amount</th>\n",
       "      <th>Class</th>\n",
       "    </tr>\n",
       "  </thead>\n",
       "  <tbody>\n",
       "    <tr>\n",
       "      <th>0</th>\n",
       "      <td>0.0</td>\n",
       "      <td>-1.359807</td>\n",
       "      <td>-0.072781</td>\n",
       "      <td>2.536347</td>\n",
       "      <td>1.378155</td>\n",
       "      <td>-0.338321</td>\n",
       "      <td>0.462388</td>\n",
       "      <td>0.239599</td>\n",
       "      <td>0.098698</td>\n",
       "      <td>0.363787</td>\n",
       "      <td>...</td>\n",
       "      <td>-0.018307</td>\n",
       "      <td>0.277838</td>\n",
       "      <td>-0.110474</td>\n",
       "      <td>0.066928</td>\n",
       "      <td>0.128539</td>\n",
       "      <td>-0.189115</td>\n",
       "      <td>0.133558</td>\n",
       "      <td>-0.021053</td>\n",
       "      <td>149.62</td>\n",
       "      <td>0</td>\n",
       "    </tr>\n",
       "    <tr>\n",
       "      <th>1</th>\n",
       "      <td>0.0</td>\n",
       "      <td>1.191857</td>\n",
       "      <td>0.266151</td>\n",
       "      <td>0.166480</td>\n",
       "      <td>0.448154</td>\n",
       "      <td>0.060018</td>\n",
       "      <td>-0.082361</td>\n",
       "      <td>-0.078803</td>\n",
       "      <td>0.085102</td>\n",
       "      <td>-0.255425</td>\n",
       "      <td>...</td>\n",
       "      <td>-0.225775</td>\n",
       "      <td>-0.638672</td>\n",
       "      <td>0.101288</td>\n",
       "      <td>-0.339846</td>\n",
       "      <td>0.167170</td>\n",
       "      <td>0.125895</td>\n",
       "      <td>-0.008983</td>\n",
       "      <td>0.014724</td>\n",
       "      <td>2.69</td>\n",
       "      <td>0</td>\n",
       "    </tr>\n",
       "    <tr>\n",
       "      <th>2</th>\n",
       "      <td>1.0</td>\n",
       "      <td>-1.358354</td>\n",
       "      <td>-1.340163</td>\n",
       "      <td>1.773209</td>\n",
       "      <td>0.379780</td>\n",
       "      <td>-0.503198</td>\n",
       "      <td>1.800499</td>\n",
       "      <td>0.791461</td>\n",
       "      <td>0.247676</td>\n",
       "      <td>-1.514654</td>\n",
       "      <td>...</td>\n",
       "      <td>0.247998</td>\n",
       "      <td>0.771679</td>\n",
       "      <td>0.909412</td>\n",
       "      <td>-0.689281</td>\n",
       "      <td>-0.327642</td>\n",
       "      <td>-0.139097</td>\n",
       "      <td>-0.055353</td>\n",
       "      <td>-0.059752</td>\n",
       "      <td>378.66</td>\n",
       "      <td>0</td>\n",
       "    </tr>\n",
       "    <tr>\n",
       "      <th>3</th>\n",
       "      <td>1.0</td>\n",
       "      <td>-0.966272</td>\n",
       "      <td>-0.185226</td>\n",
       "      <td>1.792993</td>\n",
       "      <td>-0.863291</td>\n",
       "      <td>-0.010309</td>\n",
       "      <td>1.247203</td>\n",
       "      <td>0.237609</td>\n",
       "      <td>0.377436</td>\n",
       "      <td>-1.387024</td>\n",
       "      <td>...</td>\n",
       "      <td>-0.108300</td>\n",
       "      <td>0.005274</td>\n",
       "      <td>-0.190321</td>\n",
       "      <td>-1.175575</td>\n",
       "      <td>0.647376</td>\n",
       "      <td>-0.221929</td>\n",
       "      <td>0.062723</td>\n",
       "      <td>0.061458</td>\n",
       "      <td>123.50</td>\n",
       "      <td>0</td>\n",
       "    </tr>\n",
       "    <tr>\n",
       "      <th>4</th>\n",
       "      <td>2.0</td>\n",
       "      <td>-1.158233</td>\n",
       "      <td>0.877737</td>\n",
       "      <td>1.548718</td>\n",
       "      <td>0.403034</td>\n",
       "      <td>-0.407193</td>\n",
       "      <td>0.095921</td>\n",
       "      <td>0.592941</td>\n",
       "      <td>-0.270533</td>\n",
       "      <td>0.817739</td>\n",
       "      <td>...</td>\n",
       "      <td>-0.009431</td>\n",
       "      <td>0.798278</td>\n",
       "      <td>-0.137458</td>\n",
       "      <td>0.141267</td>\n",
       "      <td>-0.206010</td>\n",
       "      <td>0.502292</td>\n",
       "      <td>0.219422</td>\n",
       "      <td>0.215153</td>\n",
       "      <td>69.99</td>\n",
       "      <td>0</td>\n",
       "    </tr>\n",
       "  </tbody>\n",
       "</table>\n",
       "<p>5 rows × 31 columns</p>\n",
       "</div>"
      ],
      "text/plain": [
       "   Time        V1        V2        V3        V4        V5        V6        V7  \\\n",
       "0   0.0 -1.359807 -0.072781  2.536347  1.378155 -0.338321  0.462388  0.239599   \n",
       "1   0.0  1.191857  0.266151  0.166480  0.448154  0.060018 -0.082361 -0.078803   \n",
       "2   1.0 -1.358354 -1.340163  1.773209  0.379780 -0.503198  1.800499  0.791461   \n",
       "3   1.0 -0.966272 -0.185226  1.792993 -0.863291 -0.010309  1.247203  0.237609   \n",
       "4   2.0 -1.158233  0.877737  1.548718  0.403034 -0.407193  0.095921  0.592941   \n",
       "\n",
       "         V8        V9  ...       V21       V22       V23       V24       V25  \\\n",
       "0  0.098698  0.363787  ... -0.018307  0.277838 -0.110474  0.066928  0.128539   \n",
       "1  0.085102 -0.255425  ... -0.225775 -0.638672  0.101288 -0.339846  0.167170   \n",
       "2  0.247676 -1.514654  ...  0.247998  0.771679  0.909412 -0.689281 -0.327642   \n",
       "3  0.377436 -1.387024  ... -0.108300  0.005274 -0.190321 -1.175575  0.647376   \n",
       "4 -0.270533  0.817739  ... -0.009431  0.798278 -0.137458  0.141267 -0.206010   \n",
       "\n",
       "        V26       V27       V28  Amount  Class  \n",
       "0 -0.189115  0.133558 -0.021053  149.62      0  \n",
       "1  0.125895 -0.008983  0.014724    2.69      0  \n",
       "2 -0.139097 -0.055353 -0.059752  378.66      0  \n",
       "3 -0.221929  0.062723  0.061458  123.50      0  \n",
       "4  0.502292  0.219422  0.215153   69.99      0  \n",
       "\n",
       "[5 rows x 31 columns]"
      ]
     },
     "execution_count": 2,
     "metadata": {},
     "output_type": "execute_result"
    }
   ],
   "source": [
    "df =pd.read_csv(\"../input/creditcardfraud/creditcard.csv\")\n",
    "df.head()"
   ]
  },
  {
   "cell_type": "markdown",
   "id": "dfa6062d",
   "metadata": {
    "papermill": {
     "duration": 0.020386,
     "end_time": "2022-12-20T22:26:15.574906",
     "exception": false,
     "start_time": "2022-12-20T22:26:15.554520",
     "status": "completed"
    },
    "tags": []
   },
   "source": [
    "# Majority and Minority Classes\n",
    "\n",
    "Let's check how imbalanced the data is. "
   ]
  },
  {
   "cell_type": "code",
   "execution_count": 3,
   "id": "67b12fd4",
   "metadata": {
    "execution": {
     "iopub.execute_input": "2022-12-20T22:26:15.630739Z",
     "iopub.status.busy": "2022-12-20T22:26:15.629789Z",
     "iopub.status.idle": "2022-12-20T22:26:15.634150Z",
     "shell.execute_reply": "2022-12-20T22:26:15.634719Z",
     "shell.execute_reply.started": "2022-01-21T03:22:06.777972Z"
    },
    "papermill": {
     "duration": 0.038709,
     "end_time": "2022-12-20T22:26:15.634925",
     "exception": false,
     "start_time": "2022-12-20T22:26:15.596216",
     "status": "completed"
    },
    "tags": []
   },
   "outputs": [
    {
     "name": "stdout",
     "output_type": "stream",
     "text": [
      "0    284315\n",
      "1       492\n",
      "Name: Class, dtype: int64\n"
     ]
    }
   ],
   "source": [
    "data_count = df['Class'].value_counts()\n",
    "print(data_count)"
   ]
  },
  {
   "cell_type": "markdown",
   "id": "0372389c",
   "metadata": {
    "papermill": {
     "duration": 0.022936,
     "end_time": "2022-12-20T22:26:15.680323",
     "exception": false,
     "start_time": "2022-12-20T22:26:15.657387",
     "status": "completed"
    },
    "tags": []
   },
   "source": [
    "Fraud transaction is represented as 1 and actual as 0. We see that the data is highly imbalanced. Out of whole data, only 492 (0.1730%) are fraud transactions. This is what we call a minority class. The legit transactions are the majority class. "
   ]
  },
  {
   "cell_type": "markdown",
   "id": "c91faaf9",
   "metadata": {
    "papermill": {
     "duration": 0.020446,
     "end_time": "2022-12-20T22:26:15.721856",
     "exception": false,
     "start_time": "2022-12-20T22:26:15.701410",
     "status": "completed"
    },
    "tags": []
   },
   "source": [
    "Split the training and test data set. "
   ]
  },
  {
   "cell_type": "code",
   "execution_count": 4,
   "id": "0099ccd5",
   "metadata": {
    "execution": {
     "iopub.execute_input": "2022-12-20T22:26:15.796607Z",
     "iopub.status.busy": "2022-12-20T22:26:15.795704Z",
     "iopub.status.idle": "2022-12-20T22:26:15.891972Z",
     "shell.execute_reply": "2022-12-20T22:26:15.891215Z",
     "shell.execute_reply.started": "2022-01-21T05:11:05.702397Z"
    },
    "papermill": {
     "duration": 0.149088,
     "end_time": "2022-12-20T22:26:15.892121",
     "exception": false,
     "start_time": "2022-12-20T22:26:15.743033",
     "status": "completed"
    },
    "tags": []
   },
   "outputs": [],
   "source": [
    "inputs = df.drop(\"Class\", axis=\"columns\")\n",
    "targets = df.Class\n",
    "x_train, x_test, y_train, y_test = train_test_split(\n",
    "    inputs, targets, test_size=0.2, random_state=10)"
   ]
  },
  {
   "cell_type": "markdown",
   "id": "62228f94",
   "metadata": {
    "papermill": {
     "duration": 0.020746,
     "end_time": "2022-12-20T22:26:15.933959",
     "exception": false,
     "start_time": "2022-12-20T22:26:15.913213",
     "status": "completed"
    },
    "tags": []
   },
   "source": [
    "Fit the model and check the accuracy. "
   ]
  },
  {
   "cell_type": "code",
   "execution_count": 5,
   "id": "d8c68416",
   "metadata": {
    "execution": {
     "iopub.execute_input": "2022-12-20T22:26:15.983439Z",
     "iopub.status.busy": "2022-12-20T22:26:15.982762Z",
     "iopub.status.idle": "2022-12-20T22:26:23.063990Z",
     "shell.execute_reply": "2022-12-20T22:26:23.065613Z",
     "shell.execute_reply.started": "2022-01-21T04:28:05.790256Z"
    },
    "papermill": {
     "duration": 7.110712,
     "end_time": "2022-12-20T22:26:23.065973",
     "exception": false,
     "start_time": "2022-12-20T22:26:15.955261",
     "status": "completed"
    },
    "tags": []
   },
   "outputs": [
    {
     "name": "stdout",
     "output_type": "stream",
     "text": [
      "0.9988588883817282\n"
     ]
    }
   ],
   "source": [
    "clf = LogisticRegression(max_iter = 10000).fit(x_train,y_train)\n",
    "y_predicted = clf.predict(x_test)\n",
    "accuracy = clf.score(x_test, y_test)\n",
    "print(accuracy)"
   ]
  },
  {
   "cell_type": "markdown",
   "id": "08113f93",
   "metadata": {
    "papermill": {
     "duration": 0.052279,
     "end_time": "2022-12-20T22:26:23.172808",
     "exception": false,
     "start_time": "2022-12-20T22:26:23.120529",
     "status": "completed"
    },
    "tags": []
   },
   "source": [
    "# Confusion Matrix\n",
    "\n",
    "We got 99.8% accuracy without doing any balancing. Why is it then necessary to balance ? That will be answered by a confusion matrix. "
   ]
  },
  {
   "cell_type": "code",
   "execution_count": 6,
   "id": "19b5edef",
   "metadata": {
    "execution": {
     "iopub.execute_input": "2022-12-20T22:26:23.223135Z",
     "iopub.status.busy": "2022-12-20T22:26:23.221946Z",
     "iopub.status.idle": "2022-12-20T22:26:23.274224Z",
     "shell.execute_reply": "2022-12-20T22:26:23.274782Z",
     "shell.execute_reply.started": "2022-01-21T04:28:12.080842Z"
    },
    "papermill": {
     "duration": 0.080838,
     "end_time": "2022-12-20T22:26:23.274966",
     "exception": false,
     "start_time": "2022-12-20T22:26:23.194128",
     "status": "completed"
    },
    "tags": []
   },
   "outputs": [
    {
     "name": "stdout",
     "output_type": "stream",
     "text": [
      "[[56839    29]\n",
      " [   36    58]]\n"
     ]
    }
   ],
   "source": [
    "cm = metrics.confusion_matrix(y_test, y_predicted)\n",
    "print(cm)"
   ]
  },
  {
   "cell_type": "markdown",
   "id": "dfcceebb",
   "metadata": {
    "papermill": {
     "duration": 0.022196,
     "end_time": "2022-12-20T22:26:23.319136",
     "exception": false,
     "start_time": "2022-12-20T22:26:23.296940",
     "status": "completed"
    },
    "tags": []
   },
   "source": [
    "Let's see it better with matplotlib and seaborn. "
   ]
  },
  {
   "cell_type": "code",
   "execution_count": 7,
   "id": "7ef38492",
   "metadata": {
    "execution": {
     "iopub.execute_input": "2022-12-20T22:26:23.365992Z",
     "iopub.status.busy": "2022-12-20T22:26:23.365265Z",
     "iopub.status.idle": "2022-12-20T22:26:23.606302Z",
     "shell.execute_reply": "2022-12-20T22:26:23.606790Z",
     "shell.execute_reply.started": "2022-01-21T04:28:12.21763Z"
    },
    "papermill": {
     "duration": 0.266078,
     "end_time": "2022-12-20T22:26:23.606978",
     "exception": false,
     "start_time": "2022-12-20T22:26:23.340900",
     "status": "completed"
    },
    "tags": []
   },
   "outputs": [
    {
     "data": {
      "image/png": "[encoded data removed]",
      "text/plain": [
       "<Figure size 432x288 with 2 Axes>"
      ]
     },
     "metadata": {
      "needs_background": "light"
     },
     "output_type": "display_data"
    }
   ],
   "source": [
    "sns.heatmap(cm, annot=True, cmap='Blues_r' ,fmt='d')\n",
    "plt.ylabel(\"Actual Values\")\n",
    "plt.xlabel(\"Predicted Values\")\n",
    "plt.show()"
   ]
  },
  {
   "cell_type": "markdown",
   "id": "84aeb952",
   "metadata": {
    "papermill": {
     "duration": 0.022071,
     "end_time": "2022-12-20T22:26:23.651307",
     "exception": false,
     "start_time": "2022-12-20T22:26:23.629236",
     "status": "completed"
    },
    "tags": []
   },
   "source": [
    "That's better. Here we see that 36 of fraud transactions (out of 94) have been classified as legit (False Negative). But only 29 of legit transactions (out of 56868) have been classified as fraud(False positive).\n",
    "Or in other words,only 58 fraud transactions(out of 94, which makes it 61.7%) were accurately classified as fraud. But 56839 legit transactions (out of 56868, which makes it 99.94%) were accurately classified as legit.  \n",
    "Which means that our model is doing well to predict the legit transactions but not so well to predict the fraud transactions. Which means that 99.8% accuracy is pretty much the accuracy to predict legit transactions, not fraud. But that's not what we are trying to achieve.  "
   ]
  },
  {
   "cell_type": "markdown",
   "id": "950c2577",
   "metadata": {
    "papermill": {
     "duration": 0.022207,
     "end_time": "2022-12-20T22:26:23.695764",
     "exception": false,
     "start_time": "2022-12-20T22:26:23.673557",
     "status": "completed"
    },
    "tags": []
   },
   "source": [
    "# Balancing with Undersampling\n",
    "\n",
    "We will balance the data by undersampling the legit transactions in the training dataset. We will not balance the test data. The imbalance must be preserved in the test set because the real world data is imbalanced. It doesn't make sense to test on the balanced data if we are eventually going to use the model for real world imbalanced data. \n",
    "\n",
    "First, we will recreate the training data from x_train and y_train to separate legit and fraud transactions. "
   ]
  },
  {
   "cell_type": "code",
   "execution_count": 8,
   "id": "160f9826",
   "metadata": {
    "execution": {
     "iopub.execute_input": "2022-12-20T22:26:23.743860Z",
     "iopub.status.busy": "2022-12-20T22:26:23.743182Z",
     "iopub.status.idle": "2022-12-20T22:26:23.792038Z",
     "shell.execute_reply": "2022-12-20T22:26:23.792683Z",
     "shell.execute_reply.started": "2022-01-21T04:28:52.65235Z"
    },
    "papermill": {
     "duration": 0.074624,
     "end_time": "2022-12-20T22:26:23.792869",
     "exception": false,
     "start_time": "2022-12-20T22:26:23.718245",
     "status": "completed"
    },
    "tags": []
   },
   "outputs": [
    {
     "data": {
      "text/html": [
       "<div>\n",
       "<style scoped>\n",
       "    .dataframe tbody tr th:only-of-type {\n",
       "        vertical-align: middle;\n",
       "    }\n",
       "\n",
       "    .dataframe tbody tr th {\n",
       "        vertical-align: top;\n",
       "    }\n",
       "\n",
       "    .dataframe thead th {\n",
       "        text-align: right;\n",
       "    }\n",
       "</style>\n",
       "<table border=\"1\" class=\"dataframe\">\n",
       "  <thead>\n",
       "    <tr style=\"text-align: right;\">\n",
       "      <th></th>\n",
       "      <th>Time</th>\n",
       "      <th>V1</th>\n",
       "      <th>V2</th>\n",
       "      <th>V3</th>\n",
       "      <th>V4</th>\n",
       "      <th>V5</th>\n",
       "      <th>V6</th>\n",
       "      <th>V7</th>\n",
       "      <th>V8</th>\n",
       "      <th>V9</th>\n",
       "      <th>...</th>\n",
       "      <th>V21</th>\n",
       "      <th>V22</th>\n",
       "      <th>V23</th>\n",
       "      <th>V24</th>\n",
       "      <th>V25</th>\n",
       "      <th>V26</th>\n",
       "      <th>V27</th>\n",
       "      <th>V28</th>\n",
       "      <th>Amount</th>\n",
       "      <th>Class</th>\n",
       "    </tr>\n",
       "  </thead>\n",
       "  <tbody>\n",
       "    <tr>\n",
       "      <th>245582</th>\n",
       "      <td>152815.0</td>\n",
       "      <td>-3.678592</td>\n",
       "      <td>-2.185288</td>\n",
       "      <td>2.145642</td>\n",
       "      <td>-0.108133</td>\n",
       "      <td>5.326785</td>\n",
       "      <td>-3.320732</td>\n",
       "      <td>-4.715889</td>\n",
       "      <td>-0.676015</td>\n",
       "      <td>1.203082</td>\n",
       "      <td>...</td>\n",
       "      <td>0.281099</td>\n",
       "      <td>-1.687634</td>\n",
       "      <td>-5.947433</td>\n",
       "      <td>0.991956</td>\n",
       "      <td>-0.871129</td>\n",
       "      <td>-0.674865</td>\n",
       "      <td>0.526634</td>\n",
       "      <td>0.318034</td>\n",
       "      <td>24.99</td>\n",
       "      <td>0</td>\n",
       "    </tr>\n",
       "    <tr>\n",
       "      <th>33921</th>\n",
       "      <td>37440.0</td>\n",
       "      <td>1.289134</td>\n",
       "      <td>0.467212</td>\n",
       "      <td>-1.035215</td>\n",
       "      <td>0.348510</td>\n",
       "      <td>0.965128</td>\n",
       "      <td>0.162317</td>\n",
       "      <td>0.188477</td>\n",
       "      <td>0.053558</td>\n",
       "      <td>-0.333772</td>\n",
       "      <td>...</td>\n",
       "      <td>-0.147832</td>\n",
       "      <td>-0.362923</td>\n",
       "      <td>-0.230544</td>\n",
       "      <td>-1.427948</td>\n",
       "      <td>0.650917</td>\n",
       "      <td>0.465196</td>\n",
       "      <td>-0.022903</td>\n",
       "      <td>0.009328</td>\n",
       "      <td>0.76</td>\n",
       "      <td>0</td>\n",
       "    </tr>\n",
       "    <tr>\n",
       "      <th>18808</th>\n",
       "      <td>29784.0</td>\n",
       "      <td>0.824080</td>\n",
       "      <td>-1.197571</td>\n",
       "      <td>1.671425</td>\n",
       "      <td>0.999394</td>\n",
       "      <td>-1.540596</td>\n",
       "      <td>1.480644</td>\n",
       "      <td>-1.451232</td>\n",
       "      <td>0.713797</td>\n",
       "      <td>1.952104</td>\n",
       "      <td>...</td>\n",
       "      <td>0.162967</td>\n",
       "      <td>0.668738</td>\n",
       "      <td>-0.229503</td>\n",
       "      <td>-0.232408</td>\n",
       "      <td>0.256959</td>\n",
       "      <td>0.741650</td>\n",
       "      <td>0.042034</td>\n",
       "      <td>0.029245</td>\n",
       "      <td>125.00</td>\n",
       "      <td>0</td>\n",
       "    </tr>\n",
       "    <tr>\n",
       "      <th>52806</th>\n",
       "      <td>45653.0</td>\n",
       "      <td>-0.763642</td>\n",
       "      <td>1.153200</td>\n",
       "      <td>0.845734</td>\n",
       "      <td>-0.287226</td>\n",
       "      <td>-0.005743</td>\n",
       "      <td>-0.137666</td>\n",
       "      <td>0.255488</td>\n",
       "      <td>0.578325</td>\n",
       "      <td>-0.713008</td>\n",
       "      <td>...</td>\n",
       "      <td>-0.183093</td>\n",
       "      <td>-0.678964</td>\n",
       "      <td>-0.037631</td>\n",
       "      <td>-0.529925</td>\n",
       "      <td>-0.096189</td>\n",
       "      <td>0.108287</td>\n",
       "      <td>0.126774</td>\n",
       "      <td>0.039826</td>\n",
       "      <td>19.98</td>\n",
       "      <td>0</td>\n",
       "    </tr>\n",
       "    <tr>\n",
       "      <th>200909</th>\n",
       "      <td>133638.0</td>\n",
       "      <td>1.986009</td>\n",
       "      <td>-0.337558</td>\n",
       "      <td>-0.418934</td>\n",
       "      <td>0.369815</td>\n",
       "      <td>-0.360600</td>\n",
       "      <td>-0.012716</td>\n",
       "      <td>-0.588175</td>\n",
       "      <td>-0.005277</td>\n",
       "      <td>1.276081</td>\n",
       "      <td>...</td>\n",
       "      <td>0.199920</td>\n",
       "      <td>0.863473</td>\n",
       "      <td>0.130956</td>\n",
       "      <td>0.660961</td>\n",
       "      <td>-0.034146</td>\n",
       "      <td>-0.240472</td>\n",
       "      <td>0.047897</td>\n",
       "      <td>-0.028392</td>\n",
       "      <td>9.99</td>\n",
       "      <td>0</td>\n",
       "    </tr>\n",
       "  </tbody>\n",
       "</table>\n",
       "<p>5 rows × 31 columns</p>\n",
       "</div>"
      ],
      "text/plain": [
       "            Time        V1        V2        V3        V4        V5        V6  \\\n",
       "245582  152815.0 -3.678592 -2.185288  2.145642 -0.108133  5.326785 -3.320732   \n",
       "33921    37440.0  1.289134  0.467212 -1.035215  0.348510  0.965128  0.162317   \n",
       "18808    29784.0  0.824080 -1.197571  1.671425  0.999394 -1.540596  1.480644   \n",
       "52806    45653.0 -0.763642  1.153200  0.845734 -0.287226 -0.005743 -0.137666   \n",
       "200909  133638.0  1.986009 -0.337558 -0.418934  0.369815 -0.360600 -0.012716   \n",
       "\n",
       "              V7        V8        V9  ...       V21       V22       V23  \\\n",
       "245582 -4.715889 -0.676015  1.203082  ...  0.281099 -1.687634 -5.947433   \n",
       "33921   0.188477  0.053558 -0.333772  ... -0.147832 -0.362923 -0.230544   \n",
       "18808  -1.451232  0.713797  1.952104  ...  0.162967  0.668738 -0.229503   \n",
       "52806   0.255488  0.578325 -0.713008  ... -0.183093 -0.678964 -0.037631   \n",
       "200909 -0.588175 -0.005277  1.276081  ...  0.199920  0.863473  0.130956   \n",
       "\n",
       "             V24       V25       V26       V27       V28  Amount  Class  \n",
       "245582  0.991956 -0.871129 -0.674865  0.526634  0.318034   24.99      0  \n",
       "33921  -1.427948  0.650917  0.465196 -0.022903  0.009328    0.76      0  \n",
       "18808  -0.232408  0.256959  0.741650  0.042034  0.029245  125.00      0  \n",
       "52806  -0.529925 -0.096189  0.108287  0.126774  0.039826   19.98      0  \n",
       "200909  0.660961 -0.034146 -0.240472  0.047897 -0.028392    9.99      0  \n",
       "\n",
       "[5 rows x 31 columns]"
      ]
     },
     "execution_count": 8,
     "metadata": {},
     "output_type": "execute_result"
    }
   ],
   "source": [
    "train_data = pd.concat([x_train, y_train], axis=1)\n",
    "train_data.head()"
   ]
  },
  {
   "cell_type": "markdown",
   "id": "28437df0",
   "metadata": {
    "papermill": {
     "duration": 0.023352,
     "end_time": "2022-12-20T22:26:23.839939",
     "exception": false,
     "start_time": "2022-12-20T22:26:23.816587",
     "status": "completed"
    },
    "tags": []
   },
   "source": [
    "Separate legit and fraud transactions. "
   ]
  },
  {
   "cell_type": "code",
   "execution_count": 9,
   "id": "5489d6e8",
   "metadata": {
    "execution": {
     "iopub.execute_input": "2022-12-20T22:26:23.889735Z",
     "iopub.status.busy": "2022-12-20T22:26:23.889027Z",
     "iopub.status.idle": "2022-12-20T22:26:23.931976Z",
     "shell.execute_reply": "2022-12-20T22:26:23.932524Z",
     "shell.execute_reply.started": "2022-01-21T04:28:57.500819Z"
    },
    "papermill": {
     "duration": 0.069709,
     "end_time": "2022-12-20T22:26:23.932709",
     "exception": false,
     "start_time": "2022-12-20T22:26:23.863000",
     "status": "completed"
    },
    "tags": []
   },
   "outputs": [],
   "source": [
    "legit_train = train_data[train_data.Class == 0]\n",
    "fraud_train = train_data[train_data.Class == 1]"
   ]
  },
  {
   "cell_type": "markdown",
   "id": "83328997",
   "metadata": {
    "papermill": {
     "duration": 0.023014,
     "end_time": "2022-12-20T22:26:23.978986",
     "exception": false,
     "start_time": "2022-12-20T22:26:23.955972",
     "status": "completed"
    },
    "tags": []
   },
   "source": [
    "Check how many frauds we got so that we can undersample legit transactions to that number."
   ]
  },
  {
   "cell_type": "code",
   "execution_count": 10,
   "id": "92f7a6e9",
   "metadata": {
    "execution": {
     "iopub.execute_input": "2022-12-20T22:26:24.029729Z",
     "iopub.status.busy": "2022-12-20T22:26:24.028960Z",
     "iopub.status.idle": "2022-12-20T22:26:24.033736Z",
     "shell.execute_reply": "2022-12-20T22:26:24.034581Z",
     "shell.execute_reply.started": "2022-01-21T04:28:59.883644Z"
    },
    "papermill": {
     "duration": 0.032797,
     "end_time": "2022-12-20T22:26:24.034840",
     "exception": false,
     "start_time": "2022-12-20T22:26:24.002043",
     "status": "completed"
    },
    "tags": []
   },
   "outputs": [
    {
     "name": "stdout",
     "output_type": "stream",
     "text": [
      "(227447, 31) (398, 31)\n"
     ]
    }
   ],
   "source": [
    "print(legit_train.shape, fraud_train.shape)"
   ]
  },
  {
   "cell_type": "markdown",
   "id": "f106cfd4",
   "metadata": {
    "papermill": {
     "duration": 0.022861,
     "end_time": "2022-12-20T22:26:24.081930",
     "exception": false,
     "start_time": "2022-12-20T22:26:24.059069",
     "status": "completed"
    },
    "tags": []
   },
   "source": [
    "# Random Undersampling\n",
    "\n",
    "So, we see that there are 227447 legit transactions and 398 fraud transactions in our training data set. We will balance this dataset by randomly selecting 398 legit transactions out of 227447. This is called random undersampling. "
   ]
  },
  {
   "cell_type": "code",
   "execution_count": 11,
   "id": "aa4003ad",
   "metadata": {
    "execution": {
     "iopub.execute_input": "2022-12-20T22:26:24.131245Z",
     "iopub.status.busy": "2022-12-20T22:26:24.130582Z",
     "iopub.status.idle": "2022-12-20T22:26:24.143972Z",
     "shell.execute_reply": "2022-12-20T22:26:24.144557Z",
     "shell.execute_reply.started": "2022-01-21T04:29:03.958752Z"
    },
    "papermill": {
     "duration": 0.039757,
     "end_time": "2022-12-20T22:26:24.144735",
     "exception": false,
     "start_time": "2022-12-20T22:26:24.104978",
     "status": "completed"
    },
    "tags": []
   },
   "outputs": [
    {
     "data": {
      "text/plain": [
       "(398, 31)"
      ]
     },
     "execution_count": 11,
     "metadata": {},
     "output_type": "execute_result"
    }
   ],
   "source": [
    "legit_train = legit_train.sample(n=398)\n",
    "legit_train.shape"
   ]
  },
  {
   "cell_type": "markdown",
   "id": "9dc55615",
   "metadata": {
    "papermill": {
     "duration": 0.023849,
     "end_time": "2022-12-20T22:26:24.192264",
     "exception": false,
     "start_time": "2022-12-20T22:26:24.168415",
     "status": "completed"
    },
    "tags": []
   },
   "source": [
    "Now that we have same number of fraud and legit transactions, let's join them back to recreate a complete balanced training dataset. "
   ]
  },
  {
   "cell_type": "code",
   "execution_count": 12,
   "id": "9e8324e4",
   "metadata": {
    "execution": {
     "iopub.execute_input": "2022-12-20T22:26:24.244458Z",
     "iopub.status.busy": "2022-12-20T22:26:24.243491Z",
     "iopub.status.idle": "2022-12-20T22:26:24.250602Z",
     "shell.execute_reply": "2022-12-20T22:26:24.251156Z",
     "shell.execute_reply.started": "2022-01-21T04:29:06.784766Z"
    },
    "papermill": {
     "duration": 0.034289,
     "end_time": "2022-12-20T22:26:24.251331",
     "exception": false,
     "start_time": "2022-12-20T22:26:24.217042",
     "status": "completed"
    },
    "tags": []
   },
   "outputs": [
    {
     "data": {
      "text/plain": [
       "(796, 31)"
      ]
     },
     "execution_count": 12,
     "metadata": {},
     "output_type": "execute_result"
    }
   ],
   "source": [
    "train_data = pd.concat([legit_train, fraud_train], axis=0)\n",
    "train_data.shape"
   ]
  },
  {
   "cell_type": "markdown",
   "id": "994100fa",
   "metadata": {
    "papermill": {
     "duration": 0.023614,
     "end_time": "2022-12-20T22:26:24.298706",
     "exception": false,
     "start_time": "2022-12-20T22:26:24.275092",
     "status": "completed"
    },
    "tags": []
   },
   "source": [
    "Now, let's separate features and targets from the new training dataset. "
   ]
  },
  {
   "cell_type": "code",
   "execution_count": 13,
   "id": "081c8d19",
   "metadata": {
    "execution": {
     "iopub.execute_input": "2022-12-20T22:26:24.350398Z",
     "iopub.status.busy": "2022-12-20T22:26:24.349389Z",
     "iopub.status.idle": "2022-12-20T22:26:24.356053Z",
     "shell.execute_reply": "2022-12-20T22:26:24.355323Z",
     "shell.execute_reply.started": "2022-01-21T04:30:09.270609Z"
    },
    "papermill": {
     "duration": 0.033641,
     "end_time": "2022-12-20T22:26:24.356206",
     "exception": false,
     "start_time": "2022-12-20T22:26:24.322565",
     "status": "completed"
    },
    "tags": []
   },
   "outputs": [],
   "source": [
    "x_train_new = train_data.drop('Class', axis='columns')\n",
    "y_train_new = train_data.Class"
   ]
  },
  {
   "cell_type": "markdown",
   "id": "b16e2a6c",
   "metadata": {
    "papermill": {
     "duration": 0.023919,
     "end_time": "2022-12-20T22:26:24.403965",
     "exception": false,
     "start_time": "2022-12-20T22:26:24.380046",
     "status": "completed"
    },
    "tags": []
   },
   "source": [
    "We don't have to bother with the test dataset because it will stay the same. So, we will just fit the model with new x_train_new, y_train_new and old x_test, y_test."
   ]
  },
  {
   "cell_type": "code",
   "execution_count": 14,
   "id": "35367ddd",
   "metadata": {
    "execution": {
     "iopub.execute_input": "2022-12-20T22:26:24.459617Z",
     "iopub.status.busy": "2022-12-20T22:26:24.458500Z",
     "iopub.status.idle": "2022-12-20T22:26:24.524653Z",
     "shell.execute_reply": "2022-12-20T22:26:24.526068Z",
     "shell.execute_reply.started": "2022-01-21T04:30:30.648398Z"
    },
    "papermill": {
     "duration": 0.098682,
     "end_time": "2022-12-20T22:26:24.526420",
     "exception": false,
     "start_time": "2022-12-20T22:26:24.427738",
     "status": "completed"
    },
    "tags": []
   },
   "outputs": [
    {
     "name": "stdout",
     "output_type": "stream",
     "text": [
      "0.9353779712790984\n"
     ]
    }
   ],
   "source": [
    "clf = LogisticRegression(max_iter=10000).fit(x_train_new, y_train_new)\n",
    "y_predicted = clf.predict(x_test)\n",
    "accuracy = clf.score(x_test, y_test)\n",
    "print(accuracy)"
   ]
  },
  {
   "cell_type": "markdown",
   "id": "a3538344",
   "metadata": {
    "papermill": {
     "duration": 0.050352,
     "end_time": "2022-12-20T22:26:24.637886",
     "exception": false,
     "start_time": "2022-12-20T22:26:24.587534",
     "status": "completed"
    },
    "tags": []
   },
   "source": [
    "We got an accuracy of 96.32%. Not bad. Let's check the confusion matrix. "
   ]
  },
  {
   "cell_type": "code",
   "execution_count": 15,
   "id": "b29d44ba",
   "metadata": {
    "execution": {
     "iopub.execute_input": "2022-12-20T22:26:24.691803Z",
     "iopub.status.busy": "2022-12-20T22:26:24.691106Z",
     "iopub.status.idle": "2022-12-20T22:26:24.968277Z",
     "shell.execute_reply": "2022-12-20T22:26:24.967636Z",
     "shell.execute_reply.started": "2022-01-21T04:30:51.690717Z"
    },
    "papermill": {
     "duration": 0.30629,
     "end_time": "2022-12-20T22:26:24.968423",
     "exception": false,
     "start_time": "2022-12-20T22:26:24.662133",
     "status": "completed"
    },
    "tags": []
   },
   "outputs": [
    {
     "data": {
      "image/png": "[encoded data removed]",
      "text/plain": [
       "<Figure size 432x288 with 2 Axes>"
      ]
     },
     "metadata": {
      "needs_background": "light"
     },
     "output_type": "display_data"
    }
   ],
   "source": [
    "cm = metrics.confusion_matrix(y_test, y_predicted)\n",
    "sns.heatmap(cm, annot=True, cmap='Blues_r', fmt='d')\n",
    "plt.ylabel(\"Actual Values\")\n",
    "plt.xlabel(\"Predicted Values\")\n",
    "plt.show()"
   ]
  },
  {
   "cell_type": "markdown",
   "id": "e0f73f25",
   "metadata": {
    "papermill": {
     "duration": 0.024503,
     "end_time": "2022-12-20T22:26:25.017794",
     "exception": false,
     "start_time": "2022-12-20T22:26:24.993291",
     "status": "completed"
    },
    "tags": []
   },
   "source": [
    "From the confusion matrix, we see that 85 fraud transactions (out of 94, which makes it 90.4% ) were accurately classified as fraud. And 54781 legit transactions (out of 56868, which makes it 96.3%) were accurately classified as legit. \n",
    "Only 9 fraud transactions were classified as legit transactions. This result shows that even though we got less accuracy, this model is better at predicting the fraud transactions. \n",
    "\n",
    "# Conclusion\n",
    "\n",
    "In real world, most of the data are always imbalanced. For example, google ads click through rate, faulty products in an assembly line, spam emails etc. If we don't do anything in such unbalanced dataset, the model tends to be biased towards majority class, whatever that is. And that is a problem because we are trying to predict the minority class, not the majority. So, the biasness of the model towards majority class must be addressed. We do this by undersampling the majority class (decreasing the size of majority class) or oversampling the minority class (increasing the size of minority class).      \n",
    "\n",
    "From above results, we see that even though we get high accuracy without balancing, that accuracy shows how great it is at predicting legit transactions and how bad it is at predicting fraud transactions. But we always need to predict the fraud transactions or spams or faulty products which are always a minority in these kinds of dataset. \n",
    "\n",
    "And that is why balancing is necessary. "
   ]
  }
 ],
 "metadata": {
  "kernelspec": {
   "display_name": "Python 3",
   "language": "python",
   "name": "python3"
  },
  "language_info": {
   "codemirror_mode": {
    "name": "ipython",
    "version": 3
   },
   "file_extension": ".py",
   "mimetype": "text/x-python",
   "name": "python",
   "nbconvert_exporter": "python",
   "pygments_lexer": "ipython3",
   "version": "3.7.12"
  },
  "papermill": {
   "default_parameters": {},
   "duration": 27.096338,
   "end_time": "2022-12-20T22:26:25.855150",
   "environment_variables": {},
   "exception": null,
   "input_path": "__notebook__.ipynb",
   "output_path": "__notebook__.ipynb",
   "parameters": {},
   "start_time": "2022-12-20T22:25:58.758812",
   "version": "2.3.3"
  }
 },
 "nbformat": 4,
 "nbformat_minor": 5
}
